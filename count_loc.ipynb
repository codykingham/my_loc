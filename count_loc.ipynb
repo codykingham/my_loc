{
 "cells": [
  {
   "cell_type": "markdown",
   "metadata": {},
   "source": [
    "# Count my lines of code"
   ]
  },
  {
   "cell_type": "code",
   "execution_count": 28,
   "metadata": {},
   "outputs": [],
   "source": [
    "import json\n",
    "from pathlib import Path\n",
    "import collections"
   ]
  },
  {
   "cell_type": "code",
   "execution_count": 7,
   "metadata": {},
   "outputs": [],
   "source": [
    "# set up paths\n",
    "my_projs = Path('../')\n",
    "etcbc_projs = [\n",
    "    Path('../../etcbc/heads'), \n",
    "    Path('../../etcbc/lingo/heads'),\n",
    "    Path('../../etcbc/genre_synvar')\n",
    "]\n",
    "camb_projs = [\n",
    "    p for p in Path('../../CambridgeSemiticsLab/').glob('*')\n",
    "        if p.name not in {'nena', '.DS_Store', '.gitignore', '.git'}\n",
    "]"
   ]
  },
  {
   "cell_type": "code",
   "execution_count": 9,
   "metadata": {},
   "outputs": [
    {
     "name": "stdout",
     "output_type": "stream",
     "text": [
      "22 projects logged\n"
     ]
    },
    {
     "data": {
      "text/plain": [
       "[PosixPath('../../etcbc/heads'),\n",
       " PosixPath('../../etcbc/lingo/heads'),\n",
       " PosixPath('../../etcbc/genre_synvar'),\n",
       " PosixPath('../../CambridgeSemiticsLab/nena_tf'),\n",
       " PosixPath('../../CambridgeSemiticsLab/nena_corpus'),\n",
       " PosixPath('../../CambridgeSemiticsLab/nena_research'),\n",
       " PosixPath('../../CambridgeSemiticsLab/time_collocations'),\n",
       " PosixPath('../../CambridgeSemiticsLab/Gesenius_data'),\n",
       " PosixPath('../tischendorf_tf'),\n",
       " PosixPath('../pyling'),\n",
       " PosixPath('../noun_semantics'),\n",
       " PosixPath('../verb_in_biblical_hebrew'),\n",
       " PosixPath('../opencv_play'),\n",
       " PosixPath('../CATSS_parsers'),\n",
       " PosixPath('../my_loc'),\n",
       " PosixPath('../verb_semantics'),\n",
       " PosixPath('../bhsa_vectors'),\n",
       " PosixPath('../where_do_you_mean'),\n",
       " PosixPath('../spacex_smartweets'),\n",
       " PosixPath('../phd-thesis-template'),\n",
       " PosixPath('../CCAT'),\n",
       " PosixPath('../tfNotebooks')]"
      ]
     },
     "execution_count": 9,
     "metadata": {},
     "output_type": "execute_result"
    }
   ],
   "source": [
    "proj_dirs = [] # append them here\n",
    "\n",
    "proj_dirs += etcbc_projs\n",
    "proj_dirs += camb_projs\n",
    "\n",
    "for p in my_projs.glob('*'):\n",
    "    if not p.name.startswith('.'):\n",
    "        proj_dirs.append(p)\n",
    "    \n",
    "print(len(proj_dirs), 'projects logged')\n",
    "proj_dirs"
   ]
  },
  {
   "cell_type": "code",
   "execution_count": 37,
   "metadata": {},
   "outputs": [],
   "source": [
    "def get_notebook_lines(nb_path):\n",
    "    \"\"\"Retrieve lines of code from a notebook.\"\"\"\n",
    "    load_nb = json.loads(nb_path.read_text())\n",
    "    try:\n",
    "        cells = load_nb['cells']\n",
    "    except:\n",
    "        print('skipping', nb_path)\n",
    "        return ''\n",
    "    code = ''\n",
    "    for cell in cells:\n",
    "        if cell['cell_type'] == 'code':\n",
    "            code += ''.join(cell['source'])\n",
    "    return code"
   ]
  },
  {
   "cell_type": "code",
   "execution_count": 40,
   "metadata": {},
   "outputs": [],
   "source": [
    "def count_codelines(code_str):\n",
    "    \"\"\"Count codelines in a file.\"\"\"\n",
    "    counter = 0\n",
    "    for line in code_str.split('\\n'):\n",
    "        if line:\n",
    "            counter += 1\n",
    "    return counter\n",
    "    \n",
    "def count_all_codelines(directory, counter):\n",
    "    \"\"\"Recursively count Python codelines in a directory.\"\"\"\n",
    "    \n",
    "    for path in directory.glob('*'):\n",
    "        \n",
    "        if path.name.endswith('.py'):\n",
    "            code_str = path.read_text()\n",
    "            counter[directory.name] += count_codelines(code_str)\n",
    "            \n",
    "        elif path.name.endswith('.ipynb'):\n",
    "            code_str = get_notebook_lines(path)\n",
    "            counter[directory.name] += count_codelines(code_str)\n",
    "        \n",
    "        elif path.is_dir() and not path.name.startswith('.'):\n",
    "            count_all_codelines(path, counter) # recursive call"
   ]
  },
  {
   "cell_type": "markdown",
   "metadata": {},
   "source": [
    "# Execute Counts"
   ]
  },
  {
   "cell_type": "code",
   "execution_count": 44,
   "metadata": {},
   "outputs": [],
   "source": [
    "counter = collections.Counter()\n",
    "\n",
    "for proj in proj_dirs:\n",
    "    count_all_codelines(proj, counter)"
   ]
  },
  {
   "cell_type": "code",
   "execution_count": 45,
   "metadata": {},
   "outputs": [
    {
     "name": "stdout",
     "output_type": "stream",
     "text": [
      "counts by project: \n"
     ]
    },
    {
     "data": {
      "text/plain": [
       "[('heads', 6388),\n",
       " ('project_code', 3521),\n",
       " ('pyscripts', 2427),\n",
       " ('cxs', 2277),\n",
       " ('cx_dev', 2223),\n",
       " ('tools', 2213),\n",
       " ('exploratory', 2006),\n",
       " ('chapters', 1944),\n",
       " ('previous_phases', 1803),\n",
       " ('advb_article', 1758),\n",
       " ('qtl', 1599),\n",
       " ('dev', 1518),\n",
       " ('analysis', 1506),\n",
       " ('trees', 1449),\n",
       " ('parse', 1286),\n",
       " ('CATSS_parsers', 1228),\n",
       " ('gbi', 1202),\n",
       " ('wordsets', 1175),\n",
       " ('nena2tf', 1144),\n",
       " ('hebrew', 1141),\n",
       " ('cx_development', 1019),\n",
       " ('cx_analysis', 1018),\n",
       " ('initial_exploration', 998),\n",
       " ('text_parser', 978),\n",
       " ('Barwar', 970)]"
      ]
     },
     "execution_count": 45,
     "metadata": {},
     "output_type": "execute_result"
    }
   ],
   "source": [
    "print('counts by project: ')\n",
    "counter.most_common(25) "
   ]
  },
  {
   "cell_type": "code",
   "execution_count": 46,
   "metadata": {},
   "outputs": [
    {
     "data": {
      "text/plain": [
       "68293"
      ]
     },
     "execution_count": 46,
     "metadata": {},
     "output_type": "execute_result"
    }
   ],
   "source": [
    "# get total count\n",
    "sum(counter.values())"
   ]
  }
 ],
 "metadata": {
  "kernelspec": {
   "display_name": "Python 3",
   "language": "python",
   "name": "python3"
  },
  "language_info": {
   "codemirror_mode": {
    "name": "ipython",
    "version": 3
   },
   "file_extension": ".py",
   "mimetype": "text/x-python",
   "name": "python",
   "nbconvert_exporter": "python",
   "pygments_lexer": "ipython3",
   "version": "3.8.0"
  }
 },
 "nbformat": 4,
 "nbformat_minor": 4
}
